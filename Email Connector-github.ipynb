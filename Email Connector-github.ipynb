{
 "cells": [
  {
   "cell_type": "code",
   "execution_count": 3,
   "metadata": {},
   "outputs": [],
   "source": [
    "import re\n",
    "import pandas as pd\n",
    "import win32com.client\n",
    "import pickle\n",
    "import os\n",
    "import glob\n",
    "import email"
   ]
  },
  {
   "cell_type": "code",
   "execution_count": 4,
   "metadata": {},
   "outputs": [],
   "source": [
    "outlook = win32com.client.Dispatch(\"Outlook.Application\").GetNamespace(\"MAPI\")"
   ]
  },
  {
   "cell_type": "markdown",
   "metadata": {},
   "source": [
    "## Finding the Email folder you wish to scrape"
   ]
  },
  {
   "cell_type": "code",
   "execution_count": 5,
   "metadata": {},
   "outputs": [
    {
     "name": "stdout",
     "output_type": "stream",
     "text": [
      "3 Deleted Items\n",
      "4 Outbox\n",
      "5 Sent Items\n",
      "6 Inbox\n",
      "9 Calendar\n",
      "10 Contacts\n",
      "11 Journal\n",
      "12 Notes\n",
      "13 Tasks\n",
      "14 Reminders\n",
      "15 Reminders\n",
      "16 Drafts\n",
      "17 Conflicts\n",
      "19 Conflicts\n",
      "20 Sync Issues\n",
      "21 Local Failures\n",
      "22 Server Failures\n",
      "23 Junk Email\n"
     ]
    }
   ],
   "source": [
    "for i in range(25):\n",
    "    try:\n",
    "        box = outlook.GetDefaultFolder(i)\n",
    "        name = box.Name\n",
    "        print(i, name)\n",
    "    except:\n",
    "        pass"
   ]
  },
  {
   "cell_type": "markdown",
   "metadata": {},
   "source": [
    "## Scraping Email Content Directly"
   ]
  },
  {
   "cell_type": "code",
   "execution_count": 6,
   "metadata": {},
   "outputs": [],
   "source": [
    "inbox = outlook.GetDefaultFolder(6) # \"6\" refers to the index of a folder - in this case,\n",
    "                                    # the inbox. You can change that number to reference\n",
    "                                    # any other folder\n",
    "messages = inbox.Items\n",
    "message = messages.GetLast()\n",
    "body_content = message.body\n",
    "\n",
    "# print (body_content) #If you want to check the body of the most recent message"
   ]
  },
  {
   "cell_type": "code",
   "execution_count": 7,
   "metadata": {},
   "outputs": [],
   "source": [
    "#note that this cell searches the bdy of an email\n",
    "#you must change if you want to view the actual subject  / sender details\n",
    "\n",
    "emails = []\n",
    "for message in messages:\n",
    "    if 'block payment' in message.body.lower(): \n",
    "        emails.append( (message.body) )"
   ]
  },
  {
   "cell_type": "code",
   "execution_count": 8,
   "metadata": {},
   "outputs": [],
   "source": [
    "#emails[0] #prints the most recent email from your search"
   ]
  },
  {
   "cell_type": "code",
   "execution_count": 10,
   "metadata": {},
   "outputs": [
    {
     "name": "stdout",
     "output_type": "stream",
     "text": [
      "ok\n",
      "ok\n",
      "ok\n",
      "ok\n",
      "ok\n",
      "ok\n",
      "ok\n"
     ]
    }
   ],
   "source": [
    "email_concat = pd.DataFrame()\n",
    "for i in emails:\n",
    "    dic={}\n",
    "    dic['Currency'] = re.findall('([U][S][D]|[G][B][P]|[E][U][R]|[J][P][Y]|[Z][A][R]|[A][U][D]|[C][A][D]|[S][G][D])' , i[i.find('CM')-4:])\n",
    "    dic['Amount'] = [i.strip() for i in re.findall('([\\s\\w\\d\\s][\\s\\d\\w][,\\w\\d\\s][0-9\\w\\d\\s][0-9][0-9][.][0-9][0-9])' , i[i.find('CM')-4:]) ]\n",
    "    dic['Date'] =  re.findall('[0-9][0-9][/][0-9][0-9][/][0-9][0-9]' , i[i.find('CM')-4:])\n",
    "\n",
    "    #scraping the body of an email directly into a dataframe, below checks that each array is the same length\n",
    "    count = []\n",
    "    for x in dic.keys():\n",
    "        count.append( len(dic[x]))\n",
    "    if len(set(count)) == 1:\n",
    "        print ('ok')\n",
    "    else:\n",
    "        print ('Problem' + str ( re.findall( '[S][e][n][t][:][ ]([ 0-9 A-Z a-z :]+)' , i ) ) \\\n",
    "               + str ( re.findall( '[S][u][b][j][e][c][t][:][ ]([0-9A-Za-z :,.]+)' , i ) ) )\n",
    "        \n",
    "    \n",
    "    email = pd.DataFrame(data =  dic)\n",
    "    email_concat = pd.concat([email_concat , email]) \n",
    "\n",
    "    #print(dic)"
   ]
  },
  {
   "cell_type": "markdown",
   "metadata": {},
   "source": [
    "## Savings Attachments from an email"
   ]
  },
  {
   "cell_type": "code",
   "execution_count": 11,
   "metadata": {},
   "outputs": [],
   "source": [
    "#As mentioned above, we are now scraping the subject of emails.\n",
    "for i in messages:\n",
    "    if len (re.findall('[S][u][b][j][e][c][t][:][ ][Aa]' , message.subject)) > 0:\n",
    "            print(message.body)"
   ]
  },
  {
   "cell_type": "code",
   "execution_count": 14,
   "metadata": {},
   "outputs": [],
   "source": [
    "get_path = r\"enter_here\"\n",
    "\n",
    "#following loop scrapes and downloads all of the attachments based on the Subject containing AON.\n",
    "\n",
    "emails2 = []\n",
    "for message in messages:\n",
    "    if len(re.findall('[A][o][n]' , message.subject)) > 0 : \n",
    "        emails2.append( (message.body))\n",
    "        #print('appended' + str(message.subject))\n",
    "        attachments = message.Attachments\n",
    "        #print('Length of attachments '+len(attachments))\n",
    "        counter = len(attachments)\n",
    "        countercheck = 0\n",
    "        for i in range(0, len(attachments)+2):\n",
    "            try:\n",
    "                attachment = attachments.Item(i)\n",
    "                attachment.SaveASFile(os.path.join(get_path, attachment.FileName[-30:])) #Saves to the attachment to current folder\n",
    "                #print(i)\n",
    "                #print (attachment)\n",
    "                countercheck+=1\n",
    "            except:\n",
    "                #print\n",
    "                #print(str(i) +' didnt work ')\n",
    "                pass\n",
    "        if counter != countercheck:\n",
    "            #print ('PROBLEM WITH THIS EMAIL !' + str(message.subject))\n",
    "            pass"
   ]
  },
  {
   "cell_type": "markdown",
   "metadata": {},
   "source": [
    "## Opening up .msg files, then downloading their attachments (repeatable) should put in a function"
   ]
  },
  {
   "cell_type": "code",
   "execution_count": 16,
   "metadata": {},
   "outputs": [
    {
     "ename": "SyntaxError",
     "evalue": "EOL while scanning string literal (<ipython-input-16-1475e9b1e19b>, line 3)",
     "output_type": "error",
     "traceback": [
      "\u001b[1;36m  File \u001b[1;32m\"<ipython-input-16-1475e9b1e19b>\"\u001b[1;36m, line \u001b[1;32m3\u001b[0m\n\u001b[1;33m    level_one_emails = r'path here\u001b[0m\n\u001b[1;37m                                  ^\u001b[0m\n\u001b[1;31mSyntaxError\u001b[0m\u001b[1;31m:\u001b[0m EOL while scanning string literal\n"
     ]
    }
   ],
   "source": [
    "## Once these attachments have been downloaded\n",
    "#we can open them up as .msg files and then keep reopening them until we get the attachment we want.  \n",
    "level_one_emails = r'path here'\n",
    "level_two_path = get_path + \"\\Level 2\"\n",
    "for i in level_one_emails[1:]:\n",
    "    msg = outlook.OpenSharedItem(i)\n",
    "    count_attachments = msg.Attachments.Count\n",
    "    if count_attachments > 0:\n",
    "        for item in range(count_attachments):\n",
    "            attachment = msg.Attachments.Item(item + 1)\n",
    "            print (msg.Attachments.Item(item + 1).Filename)\n",
    "            attachment.SaveASFile(os.path.join(level_two_path, attachment.FileName[-100:]))"
   ]
  },
  {
   "cell_type": "code",
   "execution_count": 17,
   "metadata": {},
   "outputs": [
    {
     "ename": "NameError",
     "evalue": "name 'level_two_emails' is not defined",
     "output_type": "error",
     "traceback": [
      "\u001b[1;31m---------------------------------------------------------------------------\u001b[0m",
      "\u001b[1;31mNameError\u001b[0m                                 Traceback (most recent call last)",
      "\u001b[1;32m<ipython-input-17-614c4d4a3785>\u001b[0m in \u001b[0;36m<module>\u001b[1;34m()\u001b[0m\n\u001b[0;32m      1\u001b[0m \u001b[0mlevel_three_path\u001b[0m \u001b[1;33m=\u001b[0m \u001b[1;34mr\"path_here\"\u001b[0m\u001b[1;33m\u001b[0m\u001b[0m\n\u001b[1;32m----> 2\u001b[1;33m \u001b[1;32mfor\u001b[0m \u001b[0mi\u001b[0m \u001b[1;32min\u001b[0m \u001b[0mlevel_two_emails\u001b[0m\u001b[1;33m[\u001b[0m\u001b[1;36m1\u001b[0m\u001b[1;33m:\u001b[0m\u001b[1;33m]\u001b[0m\u001b[1;33m:\u001b[0m\u001b[1;33m\u001b[0m\u001b[0m\n\u001b[0m\u001b[0;32m      3\u001b[0m     \u001b[0mmsg\u001b[0m \u001b[1;33m=\u001b[0m \u001b[0moutlook\u001b[0m\u001b[1;33m.\u001b[0m\u001b[0mOpenSharedItem\u001b[0m\u001b[1;33m(\u001b[0m\u001b[0mi\u001b[0m\u001b[1;33m)\u001b[0m\u001b[1;33m\u001b[0m\u001b[0m\n\u001b[0;32m      4\u001b[0m     \u001b[0mcount_attachments\u001b[0m \u001b[1;33m=\u001b[0m \u001b[0mmsg\u001b[0m\u001b[1;33m.\u001b[0m\u001b[0mAttachments\u001b[0m\u001b[1;33m.\u001b[0m\u001b[0mCount\u001b[0m\u001b[1;33m\u001b[0m\u001b[0m\n\u001b[0;32m      5\u001b[0m     \u001b[1;32mif\u001b[0m \u001b[0mcount_attachments\u001b[0m \u001b[1;33m>\u001b[0m \u001b[1;36m0\u001b[0m\u001b[1;33m:\u001b[0m\u001b[1;33m\u001b[0m\u001b[0m\n",
      "\u001b[1;31mNameError\u001b[0m: name 'level_two_emails' is not defined"
     ]
    }
   ],
   "source": [
    "level_three_path = r\"path_here\"\n",
    "for i in level_two_emails[1:]:\n",
    "    msg = outlook.OpenSharedItem(i)\n",
    "    count_attachments = msg.Attachments.Count\n",
    "    if count_attachments > 0:\n",
    "        for item in range(count_attachments):\n",
    "            attachment = msg.Attachments.Item(item + 1)\n",
    "            print (msg.Attachments.Item(item + 1).Filename)\n",
    "            attachment.SaveASFile(os.path.join(level_three_path, attachment.FileName[-100:]))"
   ]
  },
  {
   "cell_type": "markdown",
   "metadata": {},
   "source": [
    "## Opening up .eml files and downloading their attachments"
   ]
  },
  {
   "cell_type": "code",
   "execution_count": 18,
   "metadata": {},
   "outputs": [
    {
     "ename": "SyntaxError",
     "evalue": "unexpected EOF while parsing (<ipython-input-18-01a49cba1243>, line 22)",
     "output_type": "error",
     "traceback": [
      "\u001b[1;36m  File \u001b[1;32m\"<ipython-input-18-01a49cba1243>\"\u001b[1;36m, line \u001b[1;32m22\u001b[0m\n\u001b[1;33m    #print (detail)\u001b[0m\n\u001b[1;37m                   ^\u001b[0m\n\u001b[1;31mSyntaxError\u001b[0m\u001b[1;31m:\u001b[0m unexpected EOF while parsing\n"
     ]
    }
   ],
   "source": [
    "#This doesnt work for .msg attachments for some reason\n",
    "path = r\"path_here\"\n",
    "\n",
    "listing = os.listdir(path)\n",
    "\n",
    "for file in listing:\n",
    "    \n",
    "    if str.lower(file[-3:])==\"eml\":\n",
    "        msg = email.message_from_file(open(path + '\\\\'+ file))\n",
    "        attachments = msg.get_payload()\n",
    "        \n",
    "        for attachment in attachments[1:]: #don't know why but there seems to be an empty attachment at the beginning of each payload\n",
    "            \n",
    "            try:\n",
    "                filename = attachment.get_filename()\n",
    "                #print(filename)\n",
    "                f = open(os.path.join(path + '\\\\Level 2\\\\'+filename), 'wb').write(attachment.get_payload(decode=True))\n",
    "                #f.close()\n",
    "            \n",
    "            except Exception as detail:\n",
    "                #print('Error: {}'.format(file))\n",
    "                #print (detail)\n"
   ]
  },
  {
   "cell_type": "code",
   "execution_count": null,
   "metadata": {},
   "outputs": [],
   "source": []
  }
 ],
 "metadata": {
  "kernelspec": {
   "display_name": "Python 3",
   "language": "python",
   "name": "python3"
  },
  "language_info": {
   "codemirror_mode": {
    "name": "ipython",
    "version": 3
   },
   "file_extension": ".py",
   "mimetype": "text/x-python",
   "name": "python",
   "nbconvert_exporter": "python",
   "pygments_lexer": "ipython3",
   "version": "3.6.5"
  }
 },
 "nbformat": 4,
 "nbformat_minor": 2
}
