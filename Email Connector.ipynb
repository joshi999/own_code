{
 "cells": [
  {
   "cell_type": "code",
   "execution_count": 160,
   "metadata": {},
   "outputs": [],
   "source": [
    "import re\n",
    "import pandas as pd\n",
    "import win32com.client\n",
    "import pickle\n",
    "import os\n",
    "import glob\n",
    "import email"
   ]
  },
  {
   "cell_type": "code",
   "execution_count": 161,
   "metadata": {},
   "outputs": [],
   "source": [
    "outlook = win32com.client.Dispatch(\"Outlook.Application\").GetNamespace(\"MAPI\")"
   ]
  },
  {
   "cell_type": "markdown",
   "metadata": {},
   "source": [
    "## Finding the Email folder you wish to scrape"
   ]
  },
  {
   "cell_type": "code",
   "execution_count": 162,
   "metadata": {},
   "outputs": [
    {
     "name": "stdout",
     "output_type": "stream",
     "text": [
      "3 Deleted Items\n",
      "4 Outbox\n",
      "5 Sent Items\n",
      "6 Inbox\n",
      "9 Calendar\n",
      "10 Contacts\n",
      "11 Journal\n",
      "12 Notes\n",
      "13 Tasks\n",
      "14 Reminders\n",
      "15 Reminders\n",
      "16 Drafts\n",
      "17 Conflicts\n",
      "19 Conflicts\n",
      "20 Sync Issues\n",
      "21 Local Failures\n",
      "22 Server Failures\n",
      "23 Junk Email\n"
     ]
    }
   ],
   "source": [
    "for i in range(25):\n",
    "    try:\n",
    "        box = outlook.GetDefaultFolder(i)\n",
    "        name = box.Name\n",
    "        print(i, name)\n",
    "    except:\n",
    "        pass"
   ]
  },
  {
   "cell_type": "markdown",
   "metadata": {},
   "source": [
    "## Scraping Email Content Directly"
   ]
  },
  {
   "cell_type": "code",
   "execution_count": 3,
   "metadata": {},
   "outputs": [],
   "source": [
    "inbox = outlook.GetDefaultFolder(6) # \"6\" refers to the index of a folder - in this case,\n",
    "                                    # the inbox. You can change that number to reference\n",
    "                                    # any other folder\n",
    "messages = inbox.Items\n",
    "message = messages.GetLast()\n",
    "body_content = message.body\n",
    "\n",
    "# print (body_content) #If you want to check the body of the most recent message"
   ]
  },
  {
   "cell_type": "code",
   "execution_count": 12,
   "metadata": {},
   "outputs": [],
   "source": [
    "#note that this cell searches the bdy of an email\n",
    "#you must change if you want to view the actual subject  / sender details\n",
    "\n",
    "emails = []\n",
    "for message in messages:\n",
    "    if 'block payment' in message.body.lower(): \n",
    "        emails.append( (message.body) )"
   ]
  },
  {
   "cell_type": "code",
   "execution_count": 22,
   "metadata": {},
   "outputs": [
    {
     "data": {
      "text/plain": [
       "\" \\r\\n\\r\\n \\r\\n\\r\\nFrom: Neil Richardson <Neil.Richardson@triton-global.com> \\r\\nSent: 15 September 2016 16:59\\r\\nTo: Credit Control <creditcontrol@Castelmga.com>\\r\\nCc: Tom Steibelt <tom.steibelt@Castelmga.com>; ARP Claims <claims@Altituderiskpartners.com>\\r\\nSubject: Block payment USD 17,040.73 - Payment from Triton Global Limited Castel (ARP) - 15Sept2016 - 7 Payments\\r\\n\\r\\n \\r\\n\\r\\nGood afternoon\\r\\n\\r\\n \\r\\n\\r\\nPlease find below details of a block payment to Castel with a payment date of 15/09/2016\\r\\n\\r\\n \\r\\n\\r\\nTriton Ref\\r\\n\\r\\nInsured\\r\\n\\r\\nType\\r\\n\\r\\nComment\\r\\n\\r\\nPayment Date\\r\\n\\r\\nCUR\\r\\n\\r\\nTotal\\r\\n\\r\\nPayee\\r\\n\\r\\nCM1795\\r\\n\\r\\nBRITISH AIRWAYS\\r\\n\\r\\nClaim\\r\\n\\r\\nARP ref: 10129000116\\r\\n\\r\\nUCR: B0509AA0008160003\\r\\n\\r\\n15/09/16\\r\\n\\r\\nUSD\\r\\n\\r\\n1,500.00\\r\\n\\r\\nCastel\\r\\n\\r\\nCM1791\\r\\n\\r\\nBRITISH AIRWAYS\\r\\n\\r\\nClaim\\r\\n\\r\\nARP ref: 10080100115\\r\\n\\r\\n \\r\\n\\r\\nUCR: B0509AA000816L003\\r\\n\\r\\n15/09/16\\r\\n\\r\\nUSD\\r\\n\\r\\n2,090.91\\r\\n\\r\\nCastel\\r\\n\\r\\nCM1806\\r\\n\\r\\nKLM GROUP\\r\\n\\r\\nClaim\\r\\n\\r\\nARP ref: 10057000115\\r\\n\\r\\nUCR: B 0509 XAA024815ABB\\r\\n\\r\\n15/09/16\\r\\n\\r\\nUSD\\r\\n\\r\\n10,000.00\\r\\n\\r\\nCastel\\r\\n\\r\\nCM1802\\r\\n\\r\\nIBERIA LINEAS AEREAS DE ESPANA SA\\r\\n\\r\\nClaim\\r\\n\\r\\nARP ref: 10080100115\\r\\n\\r\\n \\r\\n\\r\\nUCR: B0509AA001216B001           \\r\\n\\r\\n15/09/16\\r\\n\\r\\nUSD\\r\\n\\r\\n522.73\\r\\n\\r\\nCastel\\r\\n\\r\\nCM1803\\r\\n\\r\\nIBERIA LINEAS AEREAS DE ESPANA SA\\r\\n\\r\\nClaim\\r\\n\\r\\nARP ref: 10129000116\\r\\n\\r\\n \\r\\n\\r\\nUCR: B0509AA247916001\\r\\n\\r\\n15/09/16\\r\\n\\r\\nUSD\\r\\n\\r\\n375.00\\r\\n\\r\\nCastel\\r\\n\\r\\nCM1807\\r\\n\\r\\nKLM GROUP\\r\\n\\r\\nClaim\\r\\n\\r\\nARP ref: 10057000115\\r\\n\\r\\n \\r\\n\\r\\nUCR: B 0509 XAA024815AAD\\r\\n\\r\\n15/09/16\\r\\n\\r\\nUSD\\r\\n\\r\\n2,500.00\\r\\n\\r\\nCastel\\r\\n\\r\\nCM1820\\r\\n\\r\\nDEUTSCHE LUFTHANSA AG\\r\\n\\r\\nClaim\\r\\n\\r\\nARP ref: 10085300115\\r\\n\\r\\n \\r\\n\\r\\nUCR: B 0801 04476A15AAA\\r\\n\\r\\n15/09/16\\r\\n\\r\\nUSD\\r\\n\\r\\n52.09\\r\\n\\r\\nCastel\\r\\n\\r\\n \\r\\n\\r\\nIf you require further information, please let me know.\\r\\n\\r\\n \\r\\n\\r\\nKind regards,\\r\\n\\r\\n \\r\\n\\r\\nNeil\\r\\n\\r\\n \\r\\n\\r\\n\\r\\n\\r\\nNeil Richardson | IT and Projects\\r\\ndirect dial 0333-010-4874 | fax 0333-010-0001 | email Neil.Richardson@triton-global.com <mailto:Neil.Richardson@triton-global.com> \\r\\nMinster House | 42 Mincing Lane | London | EC3R 7AE | United Kingdom | www.triton-global.com <http://www.triton-global.com> \\r\\n\\r\\nOffices London | Leeds | Manchester | Birmingham | Bristol | Dublin | Sydney | Hong Kong | Chicago | Singapore | Toronto\\r\\n\\r\\n <https://twitter.com/triton_group>   <https://www.linkedin.com/company/triton_global_limited>   \\r\\n\\r\\nTriton Global Limited is registered in England and Wales with number 04655428 and is authorised and regulated by The Solicitors’ Regulation Authority (SRA number 597577). The registered office is at 2, St. David's Court, David Street, Leeds, LS11 5QA. ‘Triton Claims’, ‘Triton Adjusting’ and ‘Robin Simon’ are all trading names of Triton Global Limited which is the parent company of the global, commercial claims organisation known as ‘Triton’. For more information please visit our website www.triton-global.com <http://www.triton-global.com>  \\r\\n\\r\\nConfidentiality Notice: This email, including any attachments, is confidential and may be privileged or otherwise protected by work product immunity. If you are not the intended recipient please notify the sender immediately and delete it; you should not copy it or use it for any purpose or disclose the contents to any other person. \\r\\n\\r\\nPrivacy Notice: We are committed to ensuring that when we collect and use information provided to us we do so in accordance with applicable data privacy laws. For further information on how we handle and process personal information please visit http://www.triton-global.com/privacy-policy/ <http://www.triton-global.com/privacy-policy/>  \\r\\nTriton reserves the right to monitor all email communications through its networks.\\r\\n\""
      ]
     },
     "execution_count": 22,
     "metadata": {},
     "output_type": "execute_result"
    }
   ],
   "source": [
    "emails[0] #prints the most recent email from your search"
   ]
  },
  {
   "cell_type": "code",
   "execution_count": 24,
   "metadata": {},
   "outputs": [
    {
     "name": "stdout",
     "output_type": "stream",
     "text": [
      "ok\n",
      "{'Claim Ref': ['CM1795', 'CM1791', 'CM1806', 'CM1802', 'CM1803', 'CM1807', 'CM1820'], 'UCR': ['B0509AA0008160003', 'B0509AA000816L003', 'B 0509 XAA024815ABB', 'B0509AA001216B001           ', 'B0509AA247916001', 'B 0509 XAA024815AAD', 'B 0801 04476A15AAA'], 'ARP Ref': ['10129000116', '10080100115', '10057000115', '10080100115', '10129000116', '10057000115', '10085300115'], 'Settlement Currency': ['USD', 'USD', 'USD', 'USD', 'USD', 'USD', 'USD'], 'Amount': ['1,500.00', '2,090.91', '10,000.00', '522.73', '375.00', '2,500.00', '52.09'], 'Payment Date': ['15/09/16', '15/09/16', '15/09/16', '15/09/16', '15/09/16', '15/09/16', '15/09/16']}\n",
      "ok\n",
      "{'Claim Ref': ['CM1790', 'CM1461', 'CM1793', 'CM1794'], 'UCR': ['B080118951A15ADA ', 'B5064A07000363', 'B0509AA001516C001', 'B0509AA001516CL01 '], 'ARP Ref': ['10057500115 and 10106200115', '10090200115', '10129000116', '10080100115'], 'Settlement Currency': ['USD', 'USD', 'USD', 'USD'], 'Amount': ['70,000.00', '68.81', '250.00', '348.49'], 'Payment Date': ['13/09/16', '13/09/16', '13/09/16', '13/09/16']}\n",
      "ok\n",
      "{'Claim Ref': ['CM1276', 'CM1274'], 'UCR': ['B5064 AGB058641', 'B5064 AGB058641'], 'ARP Ref': ['10084600115', '1008600115'], 'Settlement Currency': ['GBP', 'GBP'], 'Amount': ['1,020.60', '1,105.01'], 'Payment Date': ['26/07/16', '26/07/16']}\n",
      "ok\n",
      "{'Claim Ref': ['CM1782', 'CM1783', 'CM1776', 'CM1777', 'CM1788'], 'UCR': ['B0509AA001516CL02', 'B0509AA001516C002 ', 'B5064ASI150675A', 'B5064ASI150512A', 'B5064ASI150648'], 'ARP Ref': ['10080100115', '10129000116', '10010200115', '10010200115', '10010200115 '], 'Settlement Currency': ['GBP', 'GBP', 'GBP', 'GBP', 'GBP'], 'Amount': ['27.83', '19.97', '167.80', '22.15', '29.65'], 'Payment Date': ['08/09/16', '08/09/16', '08/09/16', '08/09/16', '08/09/16']}\n",
      "ok\n",
      "{'Claim Ref': ['CM1579', 'CM1747', 'CM748', 'CM1751', 'CM1752', 'CM1753', 'CM1754', 'CM755', 'CM1756', 'CM1757', 'CM1758', 'CM1759', 'CM1760', 'CM1761', 'CM1762'], 'UCR': ['B5064A15000053 ', 'B0901J41410812A16', 'B0901J41410812A23', 'B0509XAC044115AIH', 'B0509XAC044115AIH ', 'B0509XAC044115AJH', 'B0509XAC044115AJH', 'B0509XAC044115AMH ', 'B0509XAC044115AMH', 'B0509XAC044115ALH', 'B0509XAC044115ALH ', 'B0509XAC044115AHH', 'B0509XAC044115AHH ', 'B0509XAC044115AKG ', 'B0509XAC044115AKG '], 'ARP Ref': ['10090200115', '10068300115', '10068300115', '10112200115', '10080100115 and 10085400115', '10112200115 ', '10080100115', '10112200115', '10080100115', '10112200115', '10080100115', '10112200115', '10080100115', '10112200115', '10080100115'], 'Settlement Currency': ['USD', 'USD', 'USD', 'USD', 'USD', 'USD', 'USD', 'USD', 'USD', 'USD', 'USD', 'USD', 'USD', 'USD', 'USD'], 'Amount': ['372.17', '3,982.10', '3,075.70', '945.20', '696.46', '570.00', '420.00', '552.93', '407.42', '15,000.00', '11,052.60', '705.42', '519.78', '814.58', '600.21'], 'Payment Date': ['24/08/16', '24/08/16', '24/08/16', '24/08/16', '24/08/16', '24/08/16', '24/08/16', '24/08/16', '24/08/16', '24/08/16', '24/08/16', '24/08/16', '24/08/16', '24/08/16', '24/08/16']}\n",
      "ok\n",
      "{'Claim Ref': ['CM1785', 'CM1786'], 'UCR': ['B0509AA001516B002', 'B0509AA001516BL02'], 'ARP Ref': ['10129000116', '10080100115'], 'Settlement Currency': ['USD', 'USD'], 'Amount': ['250.00', '348.49'], 'Payment Date': ['08/09/16', '08/09/16']}\n",
      "ok\n",
      "{'Claim Ref': ['CM1579', 'CM1747', 'CM748', 'CM1751', 'CM1752', 'CM1753', 'CM1754', 'CM755', 'CM1756', 'CM1757', 'CM1758', 'CM1759', 'CM1760', 'CM1761', 'CM1762'], 'UCR': ['B5064A15000053 ', 'B0901J41410812A16', 'B0901J41410812A23', 'B0509XAC044115AIH', 'B0509XAC044115AIH ', 'B0509XAC044115AJH', 'B0509XAC044115AJH', 'B0509XAC044115AMH ', 'B0509XAC044115AMH', 'B0509XAC044115ALH', 'B0509XAC044115ALH ', 'B0509XAC044115AHH', 'B0509XAC044115AHH ', 'B0509XAC044115AKG ', 'B0509XAC044115AKG '], 'ARP Ref': ['10090200115', '10068300115', '10068300115', '10112200115', '10080100115 and 10085400115', '10112200115 ', '10080100115', '10112200115', '10080100115', '10112200115', '10080100115', '10112200115', '10080100115', '10112200115', '10080100115'], 'Settlement Currency': ['USD', 'USD', 'USD', 'USD', 'USD', 'USD', 'USD', 'USD', 'USD', 'USD', 'USD', 'USD', 'USD', 'USD', 'USD'], 'Amount': ['372.17', '3,982.10', '3,075.70', '945.20', '696.46', '570.00', '420.00', '552.93', '407.42', '15,000.00', '11,052.60', '705.42', '519.78', '814.58', '600.21'], 'Payment Date': ['24/08/16', '24/08/16', '24/08/16', '24/08/16', '24/08/16', '24/08/16', '24/08/16', '24/08/16', '24/08/16', '24/08/16', '24/08/16', '24/08/16', '24/08/16', '24/08/16', '24/08/16']}\n"
     ]
    }
   ],
   "source": [
    "email_concat = pd.DataFrame()\n",
    "for i in emails:\n",
    "    dic={}\n",
    "    dic['Claim Ref'] = re.findall('([C][M][0-9]+)' , i[i.find('CM')-4:])\n",
    "    #dic['Insured'] = re.findall('[C][M][0-9]+[\\\\rn]+([A-Za-z0-9\\s])+[\\\\rn]+[C][l][a][i][m]' , i[i.find('CM')-4:])\n",
    "    dic['UCR'] = re.findall('[U][C][R][: ]+([BC ][BC 0-9][ 0-9A-Za-z]+)' , i[i.find('CM')-4:])\n",
    "    dic['ARP Ref'] = re.findall('[A][R][P][ ][r][e][f][: ]+([& 0-9A-Za-z]+)' , i[i.find('CM')-4:])\n",
    "    dic['Settlement Currency'] = re.findall('([U][S][D]|[G][B][P]|[E][U][R]|[J][P][Y]|[Z][A][R]|[A][U][D]|[C][A][D]|[S][G][D])' , i[i.find('CM')-4:])\n",
    "    dic['Amount'] = [i.strip() for i in re.findall('([\\s\\w\\d\\s][\\s\\d\\w][,\\w\\d\\s][0-9\\w\\d\\s][0-9][0-9][.][0-9][0-9])' , i[i.find('CM')-4:]) ]\n",
    "    dic['Payment Date'] =  re.findall('[0-9][0-9][/][0-9][0-9][/][0-9][0-9]' , i[i.find('CM')-4:])\n",
    "    \n",
    "    \n",
    "    #scraping the body of an email directly into a dataframe, below checks that each array is the same length\n",
    "    count = []\n",
    "    for x in dic.keys():\n",
    "        count.append( len(dic[x]))\n",
    "    if len(set(count)) == 1:\n",
    "        print ('ok')\n",
    "    else:\n",
    "        print ('Problem' + str ( re.findall( '[S][e][n][t][:][ ]([ 0-9 A-Z a-z :]+)' , i ) ) \\\n",
    "               + str ( re.findall( '[S][u][b][j][e][c][t][:][ ]([0-9A-Za-z :,.]+)' , i ) ) )\n",
    "        \n",
    "    \n",
    "    email = pd.DataFrame(data =  dic)\n",
    "    email_concat = pd.concat([email_concat , email]) \n",
    "\n",
    "    print(dic)"
   ]
  },
  {
   "cell_type": "markdown",
   "metadata": {},
   "source": [
    "## Savings Attachments from an email"
   ]
  },
  {
   "cell_type": "code",
   "execution_count": 238,
   "metadata": {},
   "outputs": [],
   "source": [
    "#As mentioned above, we are now scraping the subject of emails.\n",
    "\n",
    "for i in messages:\n",
    "    if len (re.findall('[S][u][b][j][e][c][t][:][ ][Aa]' , message.subject)) > 0:\n",
    "            print(message.body)"
   ]
  },
  {
   "cell_type": "code",
   "execution_count": 4,
   "metadata": {},
   "outputs": [
    {
     "name": "stdout",
     "output_type": "stream",
     "text": [
      "appended\n",
      "7\n",
      "0 didnt work \n",
      "1\n",
      "FW: URGENT CASH CALL :  HULL Settlement  - Binding Authority B087517C0CN5001 (2017 year) New claim: AV152758 Parachuting Aircraft Ltd   Double fatal accident 13/5/2018    Our ref: 5907556 (URGENT)\n",
      "2\n",
      "RE: Remittance Advice\n",
      "3\n",
      "FW: GRiDS: Disb: Castel Underwriting Agencies Limited [(69,760.78) USD] 11-Jul-2018\n",
      "4\n",
      "GRiDS: Disb: Castel Underwriting Agencies Limited [(754,256.78) USD] 10-Jul-2018|GRiDS: Disb: Castel Underwriting Agencies Limited [(171,104.00) USD] 10-Jul-2018|GRiDS: Disb: Castel Underwriting Agencies Limited [(45,153.91) EUR] 10-Jul-2018|GRiDS: Disb: \n",
      "5\n",
      "FW: GRiDS: Disb: Castel Underwriting Agencies Limited [(171,242.10) USD] 09-Jul-2018\n",
      "6\n",
      "GRiDS: Disb: Castel Underwriting Agencies Limited [(18,956.54) EUR] 06-Jul-2018|GRiDS: Disb: Castel Underwriting Agencies Limited [(25,740.31) GBP] 06-Jul-2018\n",
      "7\n",
      "GRiDS: Disb: Castel Underwriting Agencies Limited [(2,391.37) GBP] 05-Jul-2018|GRiDS: Disb: Castel Underwriting Agencies Limited [(239,503.18) USD] 05-Jul-2018\n",
      "8 didnt work \n"
     ]
    }
   ],
   "source": [
    "get_path = r\"C:\\Users\\Consultant\\Documents\\Castel\\Roland\\email_downloads\"\n",
    "\n",
    "#following loop scrapes and downloads all of the attachments based on the Subject containing AON.\n",
    "\n",
    "emails2 = []\n",
    "for message in messages:\n",
    "    if len(re.findall('[A][o][n]' , message.subject)) > 0 : \n",
    "        emails2.append( (message.body))\n",
    "        print('appended' + str(message.subject))\n",
    "        attachments = message.Attachments\n",
    "        print('Length of attachments '+len(attachments))\n",
    "        counter = len(attachments)\n",
    "        countercheck = 0\n",
    "        for i in range(0, len(attachments)+2):\n",
    "            try:\n",
    "                attachment = attachments.Item(i)\n",
    "                attachment.SaveASFile(os.path.join(get_path, attachment.FileName[-30:])) #Saves to the attachment to current folder\n",
    "                print(i)\n",
    "                print (attachment)\n",
    "                countercheck+=1\n",
    "            except:\n",
    "                print\n",
    "                print(str(i) +' didnt work ')\n",
    "                pass\n",
    "        if counter != countercheck:\n",
    "            print ('PROBLEM WITH THIS EMAIL !' + str(message.subject))"
   ]
  },
  {
   "cell_type": "markdown",
   "metadata": {},
   "source": [
    "## Opening up .msg files, then downloading their attachments (repeatable) should put in a function"
   ]
  },
  {
   "cell_type": "code",
   "execution_count": 11,
   "metadata": {},
   "outputs": [
    {
     "ename": "com_error",
     "evalue": "(-2147352567, 'Exception occurred.', (4096, 'Microsoft Outlook', 'Invalid path or URL.', None, 0, -2147352567), None)",
     "output_type": "error",
     "traceback": [
      "\u001b[1;31m---------------------------------------------------------------------------\u001b[0m",
      "\u001b[1;31mcom_error\u001b[0m                                 Traceback (most recent call last)",
      "\u001b[1;32m<ipython-input-11-50c2d0fa4aa8>\u001b[0m in \u001b[0;36m<module>\u001b[1;34m()\u001b[0m\n\u001b[0;32m      1\u001b[0m \u001b[0mlevel_two_path\u001b[0m \u001b[1;33m=\u001b[0m \u001b[1;34mr\"C:\\Users\\Consultant\\Documents\\Castel\\Lineslips\\Tom\\emails\\level 2\"\u001b[0m\u001b[1;33m\u001b[0m\u001b[0m\n\u001b[0;32m      2\u001b[0m \u001b[1;32mfor\u001b[0m \u001b[0mi\u001b[0m \u001b[1;32min\u001b[0m \u001b[0mlevel_one_emails\u001b[0m\u001b[1;33m[\u001b[0m\u001b[1;36m1\u001b[0m\u001b[1;33m:\u001b[0m\u001b[1;33m]\u001b[0m\u001b[1;33m:\u001b[0m\u001b[1;33m\u001b[0m\u001b[0m\n\u001b[1;32m----> 3\u001b[1;33m     \u001b[0mmsg\u001b[0m \u001b[1;33m=\u001b[0m \u001b[0moutlook\u001b[0m\u001b[1;33m.\u001b[0m\u001b[0mOpenSharedItem\u001b[0m\u001b[1;33m(\u001b[0m\u001b[0mi\u001b[0m\u001b[1;33m)\u001b[0m\u001b[1;33m\u001b[0m\u001b[0m\n\u001b[0m\u001b[0;32m      4\u001b[0m \u001b[1;31m#     count_attachments = msg.Attachments.Count\u001b[0m\u001b[1;33m\u001b[0m\u001b[1;33m\u001b[0m\u001b[0m\n\u001b[0;32m      5\u001b[0m \u001b[1;31m#     if count_attachments > 0:\u001b[0m\u001b[1;33m\u001b[0m\u001b[1;33m\u001b[0m\u001b[0m\n",
      "\u001b[1;32m~\\Anaconda3\\lib\\site-packages\\win32com\\client\\dynamic.py\u001b[0m in \u001b[0;36mOpenSharedItem\u001b[1;34m(self, Path)\u001b[0m\n",
      "\u001b[1;31mcom_error\u001b[0m: (-2147352567, 'Exception occurred.', (4096, 'Microsoft Outlook', 'Invalid path or URL.', None, 0, -2147352567), None)"
     ]
    }
   ],
   "source": [
    "## Once these attachments have been downloaded\n",
    "#we can open them up as .msg files and then keep reopening them until we get the attachment we want.  \n",
    "\n",
    "level_two_path = get_path + \"\\Level 2\"\n",
    "for i in level_one_emails[1:]:\n",
    "    msg = outlook.OpenSharedItem(i)\n",
    "    count_attachments = msg.Attachments.Count\n",
    "    if count_attachments > 0:\n",
    "        for item in range(count_attachments):\n",
    "            attachment = msg.Attachments.Item(item + 1)\n",
    "            print (msg.Attachments.Item(item + 1).Filename)\n",
    "            attachment.SaveASFile(os.path.join(level_two_path, attachment.FileName[-100:]))"
   ]
  },
  {
   "cell_type": "code",
   "execution_count": 11,
   "metadata": {},
   "outputs": [
    {
     "name": "stdout",
     "output_type": "stream",
     "text": [
      "DisbBackup_200654701_20180706103118840.xlsx\n",
      "DisbBackup_200654538_20180705100418300.xlsx\n",
      "DisbBackup_200654546_20180705100407843.xlsx\n",
      "DisbBackup_200654697_20180706103104646.xlsx\n",
      "DisbBackup_200654840_20180710100410788.xlsx\n",
      "DisbBackup_200654839_20180710100413486.xlsx\n",
      "DisbBackup_200654841_20180710100415793.xlsx\n"
     ]
    }
   ],
   "source": [
    "level_three_path = r\"C:\\Users\\Consultant\\Documents\\Castel\\Roland\\email_downloads\\Level 2\\Level 3\"\n",
    "for i in level_two_emails[1:]:\n",
    "    msg = outlook.OpenSharedItem(i)\n",
    "    count_attachments = msg.Attachments.Count\n",
    "    if count_attachments > 0:\n",
    "        for item in range(count_attachments):\n",
    "            attachment = msg.Attachments.Item(item + 1)\n",
    "            print (msg.Attachments.Item(item + 1).Filename)\n",
    "            attachment.SaveASFile(os.path.join(level_three_path, attachment.FileName[-100:]))"
   ]
  },
  {
   "cell_type": "markdown",
   "metadata": {},
   "source": [
    "## Opening up .eml files and downloading their attachments"
   ]
  },
  {
   "cell_type": "code",
   "execution_count": 158,
   "metadata": {},
   "outputs": [
    {
     "name": "stdout",
     "output_type": "stream",
     "text": [
      "Error: CAD 106875.eml\n",
      "must be str, not NoneType\n"
     ]
    }
   ],
   "source": [
    "#This doesnt work for .msg attachments for some reason\n",
    "path = r\"C:\\Users\\Consultant\\Documents\\Castel\\Lineslips\\Tom\\emails\"\n",
    "\n",
    "listing = os.listdir(path)\n",
    "\n",
    "for file in listing:\n",
    "    \n",
    "    if str.lower(file[-3:])==\"eml\":\n",
    "        msg = email.message_from_file(open(path + '\\\\'+ file))\n",
    "        attachments = msg.get_payload()\n",
    "        \n",
    "        for attachment in attachments[1:]: #don't know why but there seems to be an empty attachment at the beginning of each payload\n",
    "            \n",
    "            try:\n",
    "                filename = attachment.get_filename()\n",
    "                #print(filename)\n",
    "                f = open(os.path.join(path + '\\\\Level 2\\\\'+filename), 'wb').write(attachment.get_payload(decode=True))\n",
    "                #f.close()\n",
    "            \n",
    "            except Exception as detail:\n",
    "                print('Error: {}'.format(file))\n",
    "                print (detail)\n"
   ]
  }
 ],
 "metadata": {
  "kernelspec": {
   "display_name": "Python 3",
   "language": "python",
   "name": "python3"
  },
  "language_info": {
   "codemirror_mode": {
    "name": "ipython",
    "version": 3
   },
   "file_extension": ".py",
   "mimetype": "text/x-python",
   "name": "python",
   "nbconvert_exporter": "python",
   "pygments_lexer": "ipython3",
   "version": "3.6.5"
  }
 },
 "nbformat": 4,
 "nbformat_minor": 2
}
